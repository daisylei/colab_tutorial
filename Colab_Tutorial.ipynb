{
  "nbformat": 4,
  "nbformat_minor": 0,
  "metadata": {
    "colab": {
      "name": "Colab Tutorial.ipynb",
      "provenance": [],
      "mount_file_id": "17fT0GAQ_SyVBViMz4zwm0pnOetxxu3-o",
      "authorship_tag": "ABX9TyMUOahn6jnNj0cAhbZZchb6",
      "include_colab_link": true
    },
    "kernelspec": {
      "name": "python3",
      "display_name": "Python 3"
    },
    "language_info": {
      "name": "python"
    }
  },
  "cells": [
    {
      "cell_type": "markdown",
      "metadata": {
        "id": "view-in-github",
        "colab_type": "text"
      },
      "source": [
        "<a href=\"https://colab.research.google.com/github/daisylei/colab_tutorial/blob/main/Colab_Tutorial.ipynb\" target=\"_parent\"><img src=\"https://colab.research.google.com/assets/colab-badge.svg\" alt=\"Open In Colab\"/></a>"
      ]
    },
    {
      "cell_type": "markdown",
      "metadata": {
        "id": "h63ypxUUHjo2"
      },
      "source": [
        "# Colaboratory (Colab) Tutorial\n",
        "\n",
        "**By Daisy Lei**\n",
        "\n",
        "**Cognitive Brown Bag** \n",
        "\n",
        "**September 1, 2021**"
      ]
    },
    {
      "cell_type": "markdown",
      "metadata": {
        "id": "j_YjKqM2veBw"
      },
      "source": [
        "\n",
        "- Interactive environment for running python in a browser.\n",
        "- Google's version JuptyerLab/iPython.\n",
        "- No configuration required.\n",
        "- Run multiple programming languages in one document.\n",
        "- Part of the Google Workspace (G Suite) through Penn State.\n"
      ]
    },
    {
      "cell_type": "markdown",
      "metadata": {
        "id": "D22qcBA8MXI0"
      },
      "source": [
        "> **[colab.research.google.com](https://colab.research.google.com/)**\n"
      ]
    },
    {
      "cell_type": "markdown",
      "metadata": {
        "id": "Mf2I6j2mwC5z"
      },
      "source": [
        "# Notebook Components"
      ]
    },
    {
      "cell_type": "markdown",
      "metadata": {
        "id": "kqQS4a5cAmKX"
      },
      "source": [
        "## Cells"
      ]
    },
    {
      "cell_type": "markdown",
      "metadata": {
        "id": "lZwyLJ6WHHHt"
      },
      "source": [
        "### This is a text cell.\n",
        "- In a text cell you can use **markdown**, add [links](https://psych.la.psu.edu/graduate), images, etc. \n",
        "- Double click on a text cell to edit its contents.\n",
        "- Click outside of the cell to stop editing or click the 'Close Markdown editor' icon."
      ]
    },
    {
      "cell_type": "markdown",
      "metadata": {
        "id": "zhkBEKbNHC-d"
      },
      "source": [
        "Below is a code cell. It has a play button &#9658; at [ ] which you can use to run the code in the cell. "
      ]
    },
    {
      "cell_type": "code",
      "metadata": {
        "id": "dcocYrMzHX-l",
        "colab": {
          "base_uri": "https://localhost:8080/",
          "height": 281
        },
        "outputId": "8a60ebd1-503d-46c1-8463-ad052808946b"
      },
      "source": [
        "# Using python libraries to visualize data \n",
        "import numpy as np\n",
        "from matplotlib import pyplot as plt\n",
        "\n",
        "ys = 200 + np.random.randn(100)\n",
        "x = [x for x in range(len(ys))]\n",
        "\n",
        "plt.plot(x, ys, '-')\n",
        "plt.fill_between(x, ys, 195, where=(ys > 195), facecolor='g', alpha=0.6)\n",
        "\n",
        "plt.title(\"Sample Visualization\")\n",
        "plt.show()"
      ],
      "execution_count": 8,
      "outputs": [
        {
          "output_type": "display_data",
          "data": {
            "image/png": "[encoded data removed]",
            "text/plain": [
              "<Figure size 432x288 with 1 Axes>"
            ]
          },
          "metadata": {
            "needs_background": "light"
          }
        }
      ]
    },
    {
      "cell_type": "markdown",
      "metadata": {
        "id": "KBYeOwfDpDEw"
      },
      "source": [
        "\n",
        "\n",
        "> You can add more cells by clicking the +Code or +Text on the top bar or by hoovering pointer between cells."
      ]
    },
    {
      "cell_type": "markdown",
      "metadata": {
        "id": "4wvVriqSrAE9"
      },
      "source": [
        "## Cell actions\n",
        "\n",
        "* To move cells, click the up/down arrows keys.\n",
        "\n",
        "* Get a direct link to the cell.\n",
        "\n",
        "* Add comments to a cell. \n",
        "\n",
        "* Change the settings.\n",
        "\n",
        "* Edit/Close Markdown Editor"
      ]
    },
    {
      "cell_type": "markdown",
      "metadata": {
        "id": "dQ5Knm8GCAol"
      },
      "source": [
        "## Left section \n",
        "\n",
        "* Table of contents.\n",
        "* Find and replace.\n",
        "* Code snippets.\n",
        "* File access.\n",
        "* Command palette.\n",
        "\n",
        "\n"
      ]
    },
    {
      "cell_type": "markdown",
      "metadata": {
        "id": "Oz2Q8FxnvLnD"
      },
      "source": [
        "# Resource Allocations\n"
      ]
    },
    {
      "cell_type": "markdown",
      "metadata": {
        "id": "IN2oX9COB6b4"
      },
      "source": [
        "The first time you run a cell in a notebook, resources need to be allocated for your notebook. You can also click 'Connect'.\n",
        "\n",
        "A green check on the top right indicates the notebook is a active session. \n",
        "\n",
        "Include options to \n",
        "- View Resources\n",
        "- Manage Sessions"
      ]
    },
    {
      "cell_type": "markdown",
      "metadata": {
        "id": "tfJSgvTivU9G"
      },
      "source": [
        "## Programming Languages"
      ]
    },
    {
      "cell_type": "markdown",
      "metadata": {
        "id": "wZeoJU4xlZnb"
      },
      "source": [
        "Python 3.0 is the default programming language. \n",
        "\n",
        "Other programming languages \n",
        "\n",
        "- `R`\n",
        "- `HTML`\n",
        "- `Javascript`\n",
        "- `SQL`\n",
        "- etc."
      ]
    },
    {
      "cell_type": "markdown",
      "metadata": {
        "id": "XYGofbT7vX7j"
      },
      "source": [
        "Indicate that a cell contains other languages using `%%` and the language (e.g., `html`, `sql`, `R`) at the beginning of the cell.\n",
        "\n"
      ]
    },
    {
      "cell_type": "code",
      "metadata": {
        "id": "6SalxAZHrSOB",
        "colab": {
          "base_uri": "https://localhost:8080/",
          "height": 96
        },
        "outputId": "7b1ae6bd-5fd0-4ec1-c2f9-8bedf06377d9"
      },
      "source": [
        "%%html\n",
        "<ol>\n",
        "  <li>apple</li>\n",
        "  <li>banana</li>\n",
        "  <li>cookies</li>\n",
        "</ol>"
      ],
      "execution_count": 3,
      "outputs": [
        {
          "output_type": "display_data",
          "data": {
            "text/html": [
              "<ol>\n",
              "  <li>apple</li>\n",
              "  <li>banana</li>\n",
              "  <li>cookies</li>\n",
              "</ol>"
            ],
            "text/plain": [
              "<IPython.core.display.HTML object>"
            ]
          },
          "metadata": {}
        }
      ]
    },
    {
      "cell_type": "markdown",
      "metadata": {
        "id": "SpdWw2mv80IQ"
      },
      "source": [
        "To use R, you need to first run the following code first."
      ]
    },
    {
      "cell_type": "code",
      "metadata": {
        "id": "KzOrgmPc8wp2"
      },
      "source": [
        "%load_ext rpy2.ipython"
      ],
      "execution_count": 4,
      "outputs": []
    },
    {
      "cell_type": "code",
      "metadata": {
        "id": "7SZwnvQYrTan",
        "colab": {
          "base_uri": "https://localhost:8080/"
        },
        "outputId": "8a41512e-ed91-4846-f148-9c5446fe6ae9"
      },
      "source": [
        "%%R\n",
        "library(dplyr)\n",
        "\n",
        "starwars %>% \n",
        "  filter(species == \"Droid\")"
      ],
      "execution_count": 5,
      "outputs": [
        {
          "output_type": "stream",
          "name": "stderr",
          "text": [
            "R[write to console]: \n",
            "Attaching package: ‘dplyr’\n",
            "\n",
            "\n",
            "R[write to console]: The following objects are masked from ‘package:stats’:\n",
            "\n",
            "    filter, lag\n",
            "\n",
            "\n",
            "R[write to console]: The following objects are masked from ‘package:base’:\n",
            "\n",
            "    intersect, setdiff, setequal, union\n",
            "\n",
            "\n"
          ]
        },
        {
          "output_type": "stream",
          "name": "stdout",
          "text": [
            "# A tibble: 6 × 14\n",
            "  name   height  mass hair_color skin_color  eye_color birth_year sex   gender  \n",
            "  <chr>   <int> <dbl> <chr>      <chr>       <chr>          <dbl> <chr> <chr>   \n",
            "1 C-3PO     167    75 <NA>       gold        yellow           112 none  masculi…\n",
            "2 R2-D2      96    32 <NA>       white, blue red               33 none  masculi…\n",
            "3 R5-D4      97    32 <NA>       white, red  red               NA none  masculi…\n",
            "4 IG-88     200   140 none       metal       red               15 none  masculi…\n",
            "5 R4-P17     96    NA none       silver, red red, blue         NA none  feminine\n",
            "6 BB8        NA    NA none       none        black             NA none  masculi…\n",
            "# … with 5 more variables: homeworld <chr>, species <chr>, films <list>,\n",
            "#   vehicles <list>, starships <list>\n"
          ]
        }
      ]
    },
    {
      "cell_type": "markdown",
      "metadata": {
        "id": "1Nwog-eKtSv3"
      },
      "source": [
        "### Programming Tips"
      ]
    },
    {
      "cell_type": "markdown",
      "metadata": {
        "id": "fXU9YYqEtUiW"
      },
      "source": [
        "Tools > Keyboard Shortcuts\n",
        "\n",
        "Code snippets (icon at top left side)\n",
        "\n",
        "Tools > Command Palette (icon also at bottom left of window)"
      ]
    },
    {
      "cell_type": "markdown",
      "metadata": {
        "id": "wTlGNURFwLSY"
      },
      "source": [
        "# External Data / Exporting"
      ]
    },
    {
      "cell_type": "markdown",
      "metadata": {
        "id": "9AO7H_oQOLyY"
      },
      "source": [
        "Notebook session is not by default connected to your google drive. To use data loaded in your drive or write to your drive, you need to mount your drive. \n",
        "\n",
        "Also, data and figures will not be saved when your session terminates."
      ]
    },
    {
      "cell_type": "markdown",
      "metadata": {
        "id": "eNmJptbzqhb3"
      },
      "source": [
        "## Mount Drive"
      ]
    },
    {
      "cell_type": "markdown",
      "metadata": {
        "id": "HyEurz9mA5An"
      },
      "source": [
        " Run the following cell to mount your google drive. You can change the folder location indicated in ```drive.mount()```\n",
        "\n"
      ]
    },
    {
      "cell_type": "code",
      "metadata": {
        "id": "qW_b4D1Cov2U"
      },
      "source": [
        "from google.colab import drive\n",
        "drive.mount('/content/drive')"
      ],
      "execution_count": null,
      "outputs": []
    },
    {
      "cell_type": "markdown",
      "metadata": {
        "id": "j5ViQNSkI0zP"
      },
      "source": [
        "See [External data: Local Files, Drive, Sheets, and Cloud Storage](https://colab.research.google.com/notebooks/io.ipynb) for more ways to load external data and export data.\n",
        "\n"
      ]
    },
    {
      "cell_type": "markdown",
      "metadata": {
        "id": "HlhFWypUpSGY"
      },
      "source": [
        "# Computational Neuroscience/Machine Learning Applications"
      ]
    },
    {
      "cell_type": "markdown",
      "metadata": {
        "id": "si7lJZiZpdYS"
      },
      "source": [
        "## NeuroMatch Academy (NMA)\n",
        "- Computational Neuroscience (NMA-CN)\n",
        "  - [https://compneuro.neuromatch.io/](https://compneuro.neuromatch.io/)\n",
        "  \n",
        "- Deep Learning (NMA-DL) \n",
        "  - [https://deeplearning.neuromatch.io/tutorials/intro.html](https://deeplearning.neuromatch.io/tutorials/intro.html)\n",
        " "
      ]
    },
    {
      "cell_type": "markdown",
      "metadata": {
        "id": "ufF_mGNjmxgx"
      },
      "source": [
        "Completed tutorial example\n",
        "[W2D3_Tutorial2](https://github.com/daisylei/colab_tutorial/blob/main/Copy_of_W2D3_Tutorial2.ipynb)"
      ]
    },
    {
      "cell_type": "markdown",
      "metadata": {
        "id": "9CVP__qY6HFN"
      },
      "source": [
        "# References\n",
        "- [Welcome to Colaboratory](https://colab.research.google.com/notebooks/intro.ipynb)\n",
        "- [External data: Local Files, Drive, Sheets, and Cloud Storage](https://colab.research.google.com/notebooks/io.ipynb)\n",
        "- [Colab FAQ](https://research.google.com/colaboratory/faq.html)"
      ]
    }
  ]
}